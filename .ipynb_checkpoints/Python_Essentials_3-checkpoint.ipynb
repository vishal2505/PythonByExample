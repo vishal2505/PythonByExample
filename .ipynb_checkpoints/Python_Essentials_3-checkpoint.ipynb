{
 "cells": [
  {
   "cell_type": "markdown",
   "metadata": {},
   "source": [
    "# Advance Python By Example Part - 3"
   ]
  },
  {
   "cell_type": "markdown",
   "metadata": {},
   "source": [
    "## Exception Handling in Python\n",
    "    "
   ]
  },
  {
   "cell_type": "markdown",
   "metadata": {},
   "source": [
    "When we write any program in any programminglanguage, sometimes we get an error duirng exceution even though the statement or expression is syntactically correct. Errors detected during any program execution are called **Exceptions**. "
   ]
  },
  {
   "cell_type": "markdown",
   "metadata": {},
   "source": [
    "The basic terminology and syntax used to handle errors in Python is the **try** and **except** statements. The code which can cause an exception to occur is put in the **try** block and the handling of the exception are the implemented in the **except** block of code. The syntax for handling exceptions in python is as follows -"
   ]
  },
  {
   "cell_type": "markdown",
   "metadata": {},
   "source": [
    "#### try and except\n",
    "\n",
    "\n",
    "    try:\n",
    "       You do your operations here...\n",
    "       ...\n",
    "    except ExceptionI:\n",
    "       If there is ExceptionI, then execute this block.\n",
    "    except ExceptionII:\n",
    "       If there is ExceptionII, then execute this block.\n",
    "       ...\n",
    "    else:\n",
    "       If there is no exception then execute this block.\n",
    "    finally:\n",
    "       This block will be always executed whether there is exception OR no exception\n"
   ]
  },
  {
   "cell_type": "markdown",
   "metadata": {},
   "source": [
    "Let's understand this with an example. In the below example I am going to create a function which calculates the square of a number so to calculate the square, the function should always accept a number (integer for this example). But user doesn't know what of imput he/she needs to provide. It works fine when the user enters a number but what happens if he provides a String instead of a number."
   ]
  },
  {
   "cell_type": "code",
   "execution_count": 18,
   "metadata": {},
   "outputs": [
    {
     "name": "stdout",
     "output_type": "stream",
     "text": [
      "Please enter an integer: 5\n",
      "Sqaure of the the number 5 is 25\n"
     ]
    }
   ],
   "source": [
    "def acceptInput():\n",
    "    num = int(input(\"Please enter an integer: \"))\n",
    "    print(\"Sqaure of the the number {} is {}\".format(num, num*num))\n",
    "    \n",
    "acceptInput()"
   ]
  },
  {
   "cell_type": "code",
   "execution_count": 19,
   "metadata": {},
   "outputs": [
    {
     "name": "stdout",
     "output_type": "stream",
     "text": [
      "Please enter an integer: five\n"
     ]
    },
    {
     "ename": "ValueError",
     "evalue": "invalid literal for int() with base 10: 'five'",
     "output_type": "error",
     "traceback": [
      "\u001b[0;31m---------------------------------------------------------------------------\u001b[0m",
      "\u001b[0;31mValueError\u001b[0m                                Traceback (most recent call last)",
      "\u001b[0;32m<ipython-input-19-64f487b86659>\u001b[0m in \u001b[0;36m<module>\u001b[0;34m\u001b[0m\n\u001b[0;32m----> 1\u001b[0;31m \u001b[0macceptInput\u001b[0m\u001b[0;34m(\u001b[0m\u001b[0;34m)\u001b[0m\u001b[0;34m\u001b[0m\u001b[0;34m\u001b[0m\u001b[0m\n\u001b[0m",
      "\u001b[0;32m<ipython-input-18-462a292f3112>\u001b[0m in \u001b[0;36macceptInput\u001b[0;34m()\u001b[0m\n\u001b[1;32m      1\u001b[0m \u001b[0;32mdef\u001b[0m \u001b[0macceptInput\u001b[0m\u001b[0;34m(\u001b[0m\u001b[0;34m)\u001b[0m\u001b[0;34m:\u001b[0m\u001b[0;34m\u001b[0m\u001b[0;34m\u001b[0m\u001b[0m\n\u001b[0;32m----> 2\u001b[0;31m     \u001b[0mnum\u001b[0m \u001b[0;34m=\u001b[0m \u001b[0mint\u001b[0m\u001b[0;34m(\u001b[0m\u001b[0minput\u001b[0m\u001b[0;34m(\u001b[0m\u001b[0;34m\"Please enter an integer: \"\u001b[0m\u001b[0;34m)\u001b[0m\u001b[0;34m)\u001b[0m\u001b[0;34m\u001b[0m\u001b[0;34m\u001b[0m\u001b[0m\n\u001b[0m\u001b[1;32m      3\u001b[0m     \u001b[0mprint\u001b[0m\u001b[0;34m(\u001b[0m\u001b[0;34m\"Sqaure of the the number {} is {}\"\u001b[0m\u001b[0;34m.\u001b[0m\u001b[0mformat\u001b[0m\u001b[0;34m(\u001b[0m\u001b[0mnum\u001b[0m\u001b[0;34m,\u001b[0m \u001b[0mnum\u001b[0m\u001b[0;34m*\u001b[0m\u001b[0mnum\u001b[0m\u001b[0;34m)\u001b[0m\u001b[0;34m)\u001b[0m\u001b[0;34m\u001b[0m\u001b[0;34m\u001b[0m\u001b[0m\n\u001b[1;32m      4\u001b[0m \u001b[0;34m\u001b[0m\u001b[0m\n\u001b[1;32m      5\u001b[0m \u001b[0macceptInput\u001b[0m\u001b[0;34m(\u001b[0m\u001b[0;34m)\u001b[0m\u001b[0;34m\u001b[0m\u001b[0;34m\u001b[0m\u001b[0m\n",
      "\u001b[0;31mValueError\u001b[0m: invalid literal for int() with base 10: 'five'"
     ]
    }
   ],
   "source": [
    "acceptInput()"
   ]
  },
  {
   "cell_type": "markdown",
   "metadata": {},
   "source": [
    "It throws an exception and program ends abruptly. So in order to exceute the program gracefully, we need to handle the exceptions. Let's see below example"
   ]
  },
  {
   "cell_type": "code",
   "execution_count": 21,
   "metadata": {},
   "outputs": [
    {
     "name": "stdout",
     "output_type": "stream",
     "text": [
      "Please enter an integer: five\n",
      "Looks like you did not enter an integer!\n",
      "Try again-Please enter an integer: 4\n",
      "Finally, I executed!\n",
      "Sqaure of the the number 4 is 16\n"
     ]
    }
   ],
   "source": [
    "def acceptInput():\n",
    "    try:\n",
    "        num = int(input(\"Please enter an integer: \"))\n",
    "    except ValueError:\n",
    "        print(\"Looks like you did not enter an integer!\")\n",
    "        num = int(input(\"Try again-Please enter an integer: \"))\n",
    "    finally:\n",
    "        print(\"Finally, I executed!\")\n",
    "        print(\"Sqaure of the the number {} is {}\".format(num, num*num))\n",
    "        \n",
    "acceptInput()"
   ]
  },
  {
   "cell_type": "markdown",
   "metadata": {},
   "source": [
    "In this way we can provide the logic and handle the exception. But in the same example if user again enter string value. What will happen then ?"
   ]
  },
  {
   "cell_type": "code",
   "execution_count": 22,
   "metadata": {},
   "outputs": [
    {
     "name": "stdout",
     "output_type": "stream",
     "text": [
      "Please enter an integer: five\n",
      "Looks like you did not enter an integer!\n",
      "Try again-Please enter an integer: four\n",
      "Finally, I executed!\n"
     ]
    },
    {
     "ename": "UnboundLocalError",
     "evalue": "local variable 'num' referenced before assignment",
     "output_type": "error",
     "traceback": [
      "\u001b[0;31m---------------------------------------------------------------------------\u001b[0m",
      "\u001b[0;31mValueError\u001b[0m                                Traceback (most recent call last)",
      "\u001b[0;32m<ipython-input-21-af25e24cc1fa>\u001b[0m in \u001b[0;36macceptInput\u001b[0;34m()\u001b[0m\n\u001b[1;32m      2\u001b[0m     \u001b[0;32mtry\u001b[0m\u001b[0;34m:\u001b[0m\u001b[0;34m\u001b[0m\u001b[0;34m\u001b[0m\u001b[0m\n\u001b[0;32m----> 3\u001b[0;31m         \u001b[0mnum\u001b[0m \u001b[0;34m=\u001b[0m \u001b[0mint\u001b[0m\u001b[0;34m(\u001b[0m\u001b[0minput\u001b[0m\u001b[0;34m(\u001b[0m\u001b[0;34m\"Please enter an integer: \"\u001b[0m\u001b[0;34m)\u001b[0m\u001b[0;34m)\u001b[0m\u001b[0;34m\u001b[0m\u001b[0;34m\u001b[0m\u001b[0m\n\u001b[0m\u001b[1;32m      4\u001b[0m     \u001b[0;32mexcept\u001b[0m \u001b[0mValueError\u001b[0m\u001b[0;34m:\u001b[0m\u001b[0;34m\u001b[0m\u001b[0;34m\u001b[0m\u001b[0m\n",
      "\u001b[0;31mValueError\u001b[0m: invalid literal for int() with base 10: 'five'",
      "\nDuring handling of the above exception, another exception occurred:\n",
      "\u001b[0;31mValueError\u001b[0m                                Traceback (most recent call last)",
      "\u001b[0;32m<ipython-input-21-af25e24cc1fa>\u001b[0m in \u001b[0;36macceptInput\u001b[0;34m()\u001b[0m\n\u001b[1;32m      5\u001b[0m         \u001b[0mprint\u001b[0m\u001b[0;34m(\u001b[0m\u001b[0;34m\"Looks like you did not enter an integer!\"\u001b[0m\u001b[0;34m)\u001b[0m\u001b[0;34m\u001b[0m\u001b[0;34m\u001b[0m\u001b[0m\n\u001b[0;32m----> 6\u001b[0;31m         \u001b[0mnum\u001b[0m \u001b[0;34m=\u001b[0m \u001b[0mint\u001b[0m\u001b[0;34m(\u001b[0m\u001b[0minput\u001b[0m\u001b[0;34m(\u001b[0m\u001b[0;34m\"Try again-Please enter an integer: \"\u001b[0m\u001b[0;34m)\u001b[0m\u001b[0;34m)\u001b[0m\u001b[0;34m\u001b[0m\u001b[0;34m\u001b[0m\u001b[0m\n\u001b[0m\u001b[1;32m      7\u001b[0m     \u001b[0;32mfinally\u001b[0m\u001b[0;34m:\u001b[0m\u001b[0;34m\u001b[0m\u001b[0;34m\u001b[0m\u001b[0m\n",
      "\u001b[0;31mValueError\u001b[0m: invalid literal for int() with base 10: 'four'",
      "\nDuring handling of the above exception, another exception occurred:\n",
      "\u001b[0;31mUnboundLocalError\u001b[0m                         Traceback (most recent call last)",
      "\u001b[0;32m<ipython-input-22-64f487b86659>\u001b[0m in \u001b[0;36m<module>\u001b[0;34m\u001b[0m\n\u001b[0;32m----> 1\u001b[0;31m \u001b[0macceptInput\u001b[0m\u001b[0;34m(\u001b[0m\u001b[0;34m)\u001b[0m\u001b[0;34m\u001b[0m\u001b[0;34m\u001b[0m\u001b[0m\n\u001b[0m",
      "\u001b[0;32m<ipython-input-21-af25e24cc1fa>\u001b[0m in \u001b[0;36macceptInput\u001b[0;34m()\u001b[0m\n\u001b[1;32m      7\u001b[0m     \u001b[0;32mfinally\u001b[0m\u001b[0;34m:\u001b[0m\u001b[0;34m\u001b[0m\u001b[0;34m\u001b[0m\u001b[0m\n\u001b[1;32m      8\u001b[0m         \u001b[0mprint\u001b[0m\u001b[0;34m(\u001b[0m\u001b[0;34m\"Finally, I executed!\"\u001b[0m\u001b[0;34m)\u001b[0m\u001b[0;34m\u001b[0m\u001b[0;34m\u001b[0m\u001b[0m\n\u001b[0;32m----> 9\u001b[0;31m         \u001b[0mprint\u001b[0m\u001b[0;34m(\u001b[0m\u001b[0;34m\"Sqaure of the the number {} is {}\"\u001b[0m\u001b[0;34m.\u001b[0m\u001b[0mformat\u001b[0m\u001b[0;34m(\u001b[0m\u001b[0mnum\u001b[0m\u001b[0;34m,\u001b[0m \u001b[0mnum\u001b[0m\u001b[0;34m*\u001b[0m\u001b[0mnum\u001b[0m\u001b[0;34m)\u001b[0m\u001b[0;34m)\u001b[0m\u001b[0;34m\u001b[0m\u001b[0;34m\u001b[0m\u001b[0m\n\u001b[0m\u001b[1;32m     10\u001b[0m \u001b[0;34m\u001b[0m\u001b[0m\n\u001b[1;32m     11\u001b[0m \u001b[0macceptInput\u001b[0m\u001b[0;34m(\u001b[0m\u001b[0;34m)\u001b[0m\u001b[0;34m\u001b[0m\u001b[0;34m\u001b[0m\u001b[0m\n",
      "\u001b[0;31mUnboundLocalError\u001b[0m: local variable 'num' referenced before assignment"
     ]
    }
   ],
   "source": [
    "acceptInput()"
   ]
  },
  {
   "cell_type": "markdown",
   "metadata": {},
   "source": [
    "So in this case, it's best to take input in a loop until user enters a number. "
   ]
  },
  {
   "cell_type": "code",
   "execution_count": 26,
   "metadata": {},
   "outputs": [
    {
     "name": "stdout",
     "output_type": "stream",
     "text": [
      "Please enter an integer: six\n",
      "Looks like you did not enter an integer!\n",
      "Please enter an integer: five\n",
      "Looks like you did not enter an integer!\n",
      "Please enter an integer: four\n",
      "Looks like you did not enter an integer!\n",
      "Please enter an integer: 7\n",
      "Yepie...you enterted integer finally so breaking out of the loop\n",
      "Sqaure of the the number 7 is 49\n"
     ]
    }
   ],
   "source": [
    "def acceptInput():\n",
    "    while True:\n",
    "        try:\n",
    "            num = int(input(\"Please enter an integer: \"))\n",
    "        except ValueError:\n",
    "            print(\"Looks like you did not enter an integer!\")\n",
    "            continue\n",
    "        else:\n",
    "            print(\"Yepie...you enterted integer finally so breaking out of the loop\")\n",
    "            break\n",
    "\n",
    "    print(\"Sqaure of the the number {} is {}\".format(num, num*num))\n",
    "        \n",
    "acceptInput()"
   ]
  },
  {
   "cell_type": "markdown",
   "metadata": {},
   "source": [
    "### How to handle multiple exceptions\n",
    "\n",
    "You can handle multiple exceptions in the same try-except block. You can do it in 2 ways -\n",
    "\n",
    "1. Provide the different exceptions in the same except line.\n",
    "   example :- \n",
    "       except ZeroDivisionError, NameError as e:\n",
    "   \n",
    "2. Provide multple except blocks. This is useful when you want a separate exception message for each exception.\n",
    "   example :-\n",
    "       except ZeroDivisionError as e:\n",
    "           print(\"Divide by zero exception occured!, e)          \n",
    "       except NameError as e:\n",
    "           print(\"NameError occured!, e)\n",
    "           \n",
    "It's always good to include **except Exception:** block at the end to catch any unwanted exception which you are not aware of. This is the general exception catching command which will any type of exceptions in the code."
   ]
  },
  {
   "cell_type": "code",
   "execution_count": 44,
   "metadata": {},
   "outputs": [
    {
     "name": "stdout",
     "output_type": "stream",
     "text": [
      "Enter first number: 5\n",
      "Enter second number: 0\n",
      "Divide by zero exception occured! Try Again! division by zero\n",
      "Program ended.\n"
     ]
    }
   ],
   "source": [
    "#Handling multiple exceptions\n",
    "\n",
    "def calcdiv():\n",
    "    x = input(\"Enter first number: \")\n",
    "    y = input(\"Enter second number: \")\n",
    "\n",
    "    try:\n",
    "        result = int(x) / int(y)\n",
    "        print(\"Result: \", result)\n",
    "    \n",
    "    except ZeroDivisionError as e:\n",
    "        print(\"Divide by zero exception occured! Try Again!\", e)\n",
    "    \n",
    "    except ValueError as e:\n",
    "        print(\"Invalid values provided! Try Again!\", e)\n",
    "        \n",
    "    except Exception as e:\n",
    "        print(\"Something went wrong! Try Again!\", e)\n",
    "    \n",
    "    finally:\n",
    "        print(\"Program ended.\")\n",
    "\n",
    "calcdiv()"
   ]
  },
  {
   "cell_type": "code",
   "execution_count": 41,
   "metadata": {},
   "outputs": [
    {
     "name": "stdout",
     "output_type": "stream",
     "text": [
      "Enter first number: 5\n",
      "Enter second number: four\n",
      "Invalid values provided! Try Again invalid literal for int() with base 10: 'four'\n",
      "Program ended.\n"
     ]
    }
   ],
   "source": [
    "calcdiv()"
   ]
  },
  {
   "cell_type": "markdown",
   "metadata": {},
   "source": [
    "### How to create custom exceptions\n",
    "\n",
    "It's possible to create your own custom exception. You can do it with the **raise** keyword.\n"
   ]
  },
  {
   "cell_type": "code",
   "execution_count": 48,
   "metadata": {},
   "outputs": [
    {
     "ename": "SyntaxError",
     "evalue": "Something wrong occured (<string>)",
     "output_type": "error",
     "traceback": [
      "Traceback \u001b[0;36m(most recent call last)\u001b[0m:\n",
      "  File \u001b[1;32m\"/opt/anaconda3/envs/jupytertomedium/lib/python3.7/site-packages/IPython/core/interactiveshell.py\"\u001b[0m, line \u001b[1;32m3417\u001b[0m, in \u001b[1;35mrun_code\u001b[0m\n    exec(code_obj, self.user_global_ns, self.user_ns)\n",
      "\u001b[0;36m  File \u001b[0;32m\"<ipython-input-48-52624a4cd0c0>\"\u001b[0;36m, line \u001b[0;32m1\u001b[0;36m, in \u001b[0;35m<module>\u001b[0;36m\u001b[0m\n\u001b[0;31m    raise SyntaxError(\"Something wrong occured\")\u001b[0m\n",
      "\u001b[0;36m  File \u001b[0;32m\"<string>\"\u001b[0;36m, line \u001b[0;32munknown\u001b[0m\n\u001b[0;31mSyntaxError\u001b[0m\u001b[0;31m:\u001b[0m Something wrong occured\n"
     ]
    }
   ],
   "source": [
    "raise SyntaxError(\"Something wrong occured\")"
   ]
  },
  {
   "cell_type": "markdown",
   "metadata": {},
   "source": [
    "The best or the Pythonic way to create custom exceptions is to create a class which inherits the default Exception class."
   ]
  },
  {
   "cell_type": "code",
   "execution_count": 47,
   "metadata": {},
   "outputs": [
    {
     "ename": "MyException",
     "evalue": "My Custom exception occured!",
     "output_type": "error",
     "traceback": [
      "\u001b[0;31m---------------------------------------------------------------------------\u001b[0m",
      "\u001b[0;31mMyException\u001b[0m                               Traceback (most recent call last)",
      "\u001b[0;32m<ipython-input-47-6e3adace98e8>\u001b[0m in \u001b[0;36m<module>\u001b[0;34m\u001b[0m\n\u001b[1;32m      2\u001b[0m     \u001b[0;32mpass\u001b[0m\u001b[0;34m\u001b[0m\u001b[0;34m\u001b[0m\u001b[0m\n\u001b[1;32m      3\u001b[0m \u001b[0;34m\u001b[0m\u001b[0m\n\u001b[0;32m----> 4\u001b[0;31m \u001b[0;32mraise\u001b[0m \u001b[0mMyException\u001b[0m\u001b[0;34m(\u001b[0m\u001b[0;34m\"My Custom exception occured!\"\u001b[0m\u001b[0;34m)\u001b[0m\u001b[0;34m\u001b[0m\u001b[0;34m\u001b[0m\u001b[0m\n\u001b[0m",
      "\u001b[0;31mMyException\u001b[0m: My Custom exception occured!"
     ]
    }
   ],
   "source": [
    "class MyException(Exception):\n",
    "    pass\n",
    "\n",
    "raise MyException(\"My Custom exception occured!\")"
   ]
  },
  {
   "cell_type": "markdown",
   "metadata": {},
   "source": [
    "That's it for the exception handling topic in Python. You can check out the full list of built-in exceptions [here](https://docs.python.org/3.7/library/exceptions.html)"
   ]
  },
  {
   "cell_type": "markdown",
   "metadata": {},
   "source": [
    "## File Handling in Python"
   ]
  },
  {
   "cell_type": "markdown",
   "metadata": {},
   "source": [
    "Python uses file objects to interact with the external files on your computer. These file objects can be of any file format on your computer i.e. can be an audio file, an image, a text file, emails, Excel documents. You might need different libraries to work with different file formats."
   ]
  },
  {
   "cell_type": "markdown",
   "metadata": {},
   "source": [
    "Let's create a simple text file using ipython command and we will see how to read this file in Python.\n"
   ]
  },
  {
   "cell_type": "code",
   "execution_count": 52,
   "metadata": {},
   "outputs": [
    {
     "name": "stdout",
     "output_type": "stream",
     "text": [
      "Writing demo_text_file.txt\n"
     ]
    }
   ],
   "source": [
    "%%writefile demo_text_file.txt\n",
    "hello world\n",
    "i love ipython\n",
    "jupyter notebook\n",
    "fourth line\n",
    "fifth line\n",
    "six line\n",
    "This is the last line in the file"
   ]
  },
  {
   "cell_type": "markdown",
   "metadata": {},
   "source": [
    "### Opening a file"
   ]
  },
  {
   "cell_type": "markdown",
   "metadata": {},
   "source": [
    "You can open and read a file in 2 ways -\n",
    "1. Defining a variable which will contain the file object. After we have finished working with a file, we have to close it again by using the file object method close():\n",
    "\n",
    "        f = open(\"demo_text_file.txt\", \"r\")\n",
    "        ---\n",
    "        f.close()\n",
    "2. Using keyword **with**. You dont need to explicitly close the file.\n",
    "        with open(\"demo_text_file.txt\", \"r\"):\n",
    "            ##read the file\n",
    "            \n",
    "In the **open** method we have to pass a second argument which defines the file access mode. So basically \"r\" is for reading a file. Similarly \"w\" is for writing and \"a\" for appening to a file. In the below table you can see more frequently used file access modes."
   ]
  },
  {
   "cell_type": "markdown",
   "metadata": {},
   "source": [
    "| File Access Mode | Description |\n",
    "|---|---|\n",
    "| r | It allows you to read a file and file must exist otherwise it will throw an exception. This is the default mode|\n",
    "| w | Writing mode. It will create a new file if it doesn't exist otherwise will overwrite a file |\n",
    "| a | Append mode. It will write data to the end of the file |\n",
    "| r+, w+ | Reading mode + Writing mode. This allows you to read and write into the files at the same time. |\n",
    "| rb | Reading mode is Binary. |\n",
    "| wb | Writing mode is Binary. |\n",
    "| ab | Appending in Binary mode. |\n",
    "| rb+, wb+ | Reading and Writing mode in Binary. |\n",
    "| a+ | Appending and Reading mode. |\n"
   ]
  },
  {
   "cell_type": "markdown",
   "metadata": {},
   "source": [
    "### Reading a file\n",
    "\n",
    "In python, there are multiple methods to read a file -\n",
    "\n",
    "1. fileObj.read() => Will read entire file into a String.\n",
    "2. fileObj.readline() => Will read file line by line.\n",
    "3. fileObj.readlines() => Will read entire file and return a list. Be careful with this method as this will read entire file so file size should not be too large."
   ]
  },
  {
   "cell_type": "code",
   "execution_count": 60,
   "metadata": {},
   "outputs": [
    {
     "name": "stdout",
     "output_type": "stream",
     "text": [
      "------- reading entire file --------\n",
      "hello world\n",
      "i love ipython\n",
      "jupyter notebook\n",
      "fourth line\n",
      "fifth line\n",
      "six line\n",
      "This is the last line in the file\n",
      "\n",
      "------- reading file line by line --------\n",
      "printing only first 2 lines\n",
      "hello world\n",
      "\n",
      "i love ipython\n",
      "\n",
      "------- reading entire file as a list --------\n",
      "['hello world\\n', 'i love ipython\\n', 'jupyter notebook\\n', 'fourth line\\n', 'fifth line\\n', 'six line\\n', 'This is the last line in the file\\n']\n",
      "\n",
      "------- reading file with a for loop --------\n",
      "hello world\n",
      "\n",
      "i love ipython\n",
      "\n",
      "jupyter notebook\n",
      "\n",
      "fourth line\n",
      "\n",
      "fifth line\n",
      "\n",
      "six line\n",
      "\n",
      "This is the last line in the file\n",
      "\n"
     ]
    }
   ],
   "source": [
    "#Reading entire file\n",
    "print(\"------- reading entire file --------\")\n",
    "with open(\"demo_text_file.txt\", \"r\") as f:\n",
    "    print(f.read())\n",
    "\n",
    "\n",
    "#Reading file line by line\n",
    "print(\"------- reading file line by line --------\")\n",
    "print(\"printing only first 2 lines\")\n",
    "with open(\"demo_text_file.txt\", \"r\") as f:\n",
    "    print(f.readline())\n",
    "    print(f.readline())\n",
    " \n",
    "\n",
    "#Reading a file and return as a list\n",
    "print(\"------- reading entire file as a list --------\")\n",
    "with open(\"demo_text_file.txt\", \"r\") as f:\n",
    "    print(f.readlines())\n",
    "    \n",
    "\n",
    "#Reading a file using for loop\n",
    "print(\"\\n------- reading file with a for loop --------\")\n",
    "with open(\"demo_text_file.txt\", \"r\") as f:\n",
    "    for lines in f:\n",
    "        print(lines)"
   ]
  },
  {
   "cell_type": "markdown",
   "metadata": {},
   "source": [
    "### Writing to a file\n",
    "\n",
    "Similar to read, python has provided below 2 methods for writing to a file.\n",
    "1. fileObj.write()\n",
    "2. fileObj.writelines()"
   ]
  },
  {
   "cell_type": "code",
   "execution_count": 61,
   "metadata": {},
   "outputs": [],
   "source": [
    "with open(\"demo_text_file.txt\",\"r\") as f_in:\n",
    "    with open(\"demo_text_file_copy.txt\", \"w\") as f_out:\n",
    "        f_out.write(f_in.read())"
   ]
  },
  {
   "cell_type": "markdown",
   "metadata": {},
   "source": [
    "### Reading and writing a binary file\n",
    "\n",
    "You can use binary mode for read and write any image file. Binary mode contains the data in the bytes format which is the recommended way to work with images. Remember to work with binary mode, open the files in **\"rb\"** or **\"wb\"** mode."
   ]
  },
  {
   "cell_type": "code",
   "execution_count": 64,
   "metadata": {},
   "outputs": [
    {
     "name": "stdout",
     "output_type": "stream",
     "text": [
      "File copied...\n"
     ]
    }
   ],
   "source": [
    "with open(\"cat.jpg\",\"rb\") as f_in:\n",
    "    with open(\"cat_copy.jpg\", \"wb\") as f_out:\n",
    "        f_out.write(f_in.read())\n",
    "print(\"File copied...\")"
   ]
  },
  {
   "cell_type": "markdown",
   "metadata": {},
   "source": [
    "Sometimes when the file is too large, it is recommended to read with the chunks (fixed bytes per read) so that you don't run into out of memory exceptions. You can provide any value for the chunk size. In the below example you will see how to read a file in chunk and write to an another file."
   ]
  },
  {
   "cell_type": "code",
   "execution_count": 66,
   "metadata": {},
   "outputs": [
    {
     "name": "stdout",
     "output_type": "stream",
     "text": [
      "File copied with chunks\n"
     ]
    }
   ],
   "source": [
    "###Copying the image with chunks\n",
    "\n",
    "with open(\"cat.jpg\", \"rb\") as img_in:\n",
    "    with open(\"cat_copy_2.jpg\", \"wb\") as img_out:\n",
    "        chunk_size = 4096\n",
    "        img_chunk = img_in.read(chunk_size)\n",
    "        while len(img_chunk) > 0:\n",
    "            img_out.write(img_chunk)\n",
    "            img_chunk = img_in.read(chunk_size)\n",
    "print(\"File copied with chunks\")"
   ]
  },
  {
   "cell_type": "markdown",
   "metadata": {},
   "source": [
    "You now know how to do exception handling and how to work with Files in Python. That's it for this chapter. "
   ]
  },
  {
   "cell_type": "code",
   "execution_count": null,
   "metadata": {},
   "outputs": [],
   "source": []
  }
 ],
 "metadata": {
  "kernelspec": {
   "display_name": "Python 3",
   "language": "python",
   "name": "python3"
  },
  "language_info": {
   "codemirror_mode": {
    "name": "ipython",
    "version": 3
   },
   "file_extension": ".py",
   "mimetype": "text/x-python",
   "name": "python",
   "nbconvert_exporter": "python",
   "pygments_lexer": "ipython3",
   "version": "3.7.9"
  }
 },
 "nbformat": 4,
 "nbformat_minor": 4
}
