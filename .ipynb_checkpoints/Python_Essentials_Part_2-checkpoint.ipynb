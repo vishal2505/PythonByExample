{
 "cells": [
  {
   "cell_type": "markdown",
   "metadata": {},
   "source": [
    "# Advance Python By Example Part - 2"
   ]
  },
  {
   "cell_type": "markdown",
   "metadata": {},
   "source": [
    "Welcome to the part-2 of the advance python series. In the first chapter we have understood about important python concepts like Iterators, Generators, and Decorators in Python. In this chapter, we are going to learn all about Object Oriented Programming. "
   ]
  },
  {
   "cell_type": "markdown",
   "metadata": {},
   "source": [
    "## Object Oriented Programming in Python"
   ]
  },
  {
   "cell_type": "markdown",
   "metadata": {},
   "source": [
    "Object Oriented programming is very important as in every programming language, it is essential to modularize the code so that it can be re-used. We don't want to write similar code at multiple places and also we want to provide a proper structure to the code so that it's easier to understand. Hence to solve these and many other problems, we use Object Oriented Programming. It's not specific to any language however it's a programming paradigm which many languages follow."
   ]
  },
  {
   "cell_type": "markdown",
   "metadata": {},
   "source": [
    "### Classes and Instance Variables"
   ]
  },
  {
   "cell_type": "markdown",
   "metadata": {},
   "source": [
    "Why we should use Classes. Well, Classes are used in most of the modern programming languages. They provides a way to logically group data and functions. Data corresponds to attribues or properties and functions corresponds to a method. "
   ]
  },
  {
   "cell_type": "markdown",
   "metadata": {},
   "source": [
    "Let's see this with an example. Suppose you are part of s super hero company (like Vought from the Boys tv series) and want to build an application for your company where you need to keep the track of all the super heroes. Hence to represent a Super Hero, you can use class for it."
   ]
  },
  {
   "cell_type": "code",
   "execution_count": 18,
   "metadata": {},
   "outputs": [
    {
     "name": "stdout",
     "output_type": "stream",
     "text": [
      "Steve\n",
      "Tony\n"
     ]
    }
   ],
   "source": [
    "class Heroes:\n",
    "    pass\n",
    "\n",
    "hero_1 = Heroes()\n",
    "hero_2 = Heroes()\n",
    "\n",
    "hero_1.first = \"Home\"\n",
    "hero_1.last = \"Lander\"\n",
    "hero_1.salary = 50000\n",
    "\n",
    "hero_2.first = \"Black\"\n",
    "hero_2.last = \"Noir\"\n",
    "hero_2.salary = 70000\n",
    "\n",
    "print(emp_1.first)\n",
    "print(emp_2.first)"
   ]
  },
  {
   "cell_type": "markdown",
   "metadata": {},
   "source": [
    "You can define a class with the **class** keyword. In the above example I have not provided any attributes or methods just used **pass** keyword that means class is not doing anything. however I am creating 2 instances of the class  - emp_1 and emp_2. Instance vairables contain data that is unique to each instance. Here I am manually defining instance variable so if I have to do this for all the employees in the organization, it's very painful and we don't exactly get the benefit of the class."
   ]
  },
  {
   "cell_type": "markdown",
   "metadata": {},
   "source": [
    "So now we have to improve our code. Let's redefine the class and create same 2 employees."
   ]
  },
  {
   "cell_type": "code",
   "execution_count": 22,
   "metadata": {},
   "outputs": [
    {
     "name": "stdout",
     "output_type": "stream",
     "text": [
      "50000\n",
      "Home.Lander@vought.com\n",
      "Black.Noir@vought.com\n",
      "\n",
      "Another way of getting hero_1 name\n",
      "Home.Lander@vought.com\n"
     ]
    }
   ],
   "source": [
    "class Heroes:\n",
    "    def __init__(self, first, last, salary):\n",
    "        self.first = first\n",
    "        self.last = last\n",
    "        self.salary = salary\n",
    "        self.email = first + \".\" + last + \"@vought.com\"\n",
    "        \n",
    "    def getEmail(self):\n",
    "        return self.email\n",
    "    \n",
    "hero_1 = Heroes(\"Home\",\"Lander\", 50000)\n",
    "hero_2 = Heroes(\"Black\", \"Noir\", 70000)\n",
    "\n",
    "print(hero_1.salary)\n",
    "print(hero_1.getEmail())\n",
    "print(hero_2.getEmail())\n",
    "\n",
    "print(\"\\nAnother way of getting hero_1 name\")\n",
    "\n",
    "print(Heroes.getEmail(hero_1))"
   ]
  },
  {
   "cell_type": "markdown",
   "metadata": {},
   "source": [
    "This looks better as you have created a class blueprint and you can create any number of class objects i.e. employees.\n",
    "Let's understand few points here. \n",
    "1. **_ _init_ _** is a special method of the class which is also known as the **Constructor** in other programming languages. We use this special methods to define an object or instantiate an object. This basically tells us how objects are different to each other.\n",
    "2. **self** means the instance itself. When we create an object, it passes the instance variable. You can provide any name for the instance vaiable but by convention everyone uses self.\n",
    "3. You can also call a method using class name but in that case you also have to provide the instance name (Employee.getemail(emp_1)). emp_1 is the instance variable which will be refrred as self inside the class. "
   ]
  },
  {
   "cell_type": "markdown",
   "metadata": {},
   "source": [
    "### Class Variables"
   ]
  },
  {
   "cell_type": "markdown",
   "metadata": {},
   "source": [
    "Class vairables are the variables which are shared amongst all instances of the class. Instance variables are unique to each instance however class variables will share the same value for all the instances."
   ]
  },
  {
   "cell_type": "markdown",
   "metadata": {},
   "source": [
    "Let's understand this with a use case. Suppose you want to keep track of no of employees in the organization. No of employees can be a variable for which value will be same acorss all the employess so we can define this as a class variable."
   ]
  },
  {
   "cell_type": "code",
   "execution_count": 23,
   "metadata": {},
   "outputs": [
    {
     "name": "stdout",
     "output_type": "stream",
     "text": [
      "No of Employees before:  0\n",
      "No of Employees after:  2\n"
     ]
    }
   ],
   "source": [
    "class Heroes:\n",
    "    No_Of_Employees = 0\n",
    "    \n",
    "    def __init__(self, first, last, salary):\n",
    "        self.first = first\n",
    "        self.last = last\n",
    "        self.salary = salary\n",
    "        self.email = first + \".\" + last + \"@vought.com\"\n",
    "        \n",
    "        Heroes.No_Of_Employees += 1\n",
    "        \n",
    "        \n",
    "    def getEmail(self):\n",
    "        return self.email\n",
    "    \n",
    "print(\"No of Employees before: \", Heroes.No_Of_Employees)\n",
    "hero_1 = Heroes(\"Home\",\"Lander\", 50000)\n",
    "hero_2 = Heroes(\"Black\", \"Noir\", 70000)\n",
    "\n",
    "print(\"No of Employees after: \", Heroes.No_Of_Employees)"
   ]
  },
  {
   "cell_type": "markdown",
   "metadata": {},
   "source": [
    "You can also use self keyword with the class variables instead of class name. There could be a scenraio where you have defined a class variable with a particular value which will be same for most of the instances but for a particular isntance you need to provide a different value. In that case it's better to use self.class_valiable_name instead of class.class_variable_name in the _ _ init _ _ method and override the value with instance_name.class_variable_name."
   ]
  },
  {
   "cell_type": "markdown",
   "metadata": {},
   "source": [
    "So whenever you call a class variable with the instance name, first it checks for that variable in the instance variables and if not found then check for the class level variables."
   ]
  },
  {
   "cell_type": "markdown",
   "metadata": {},
   "source": [
    "### Regular Methods, class methods and static methods"
   ]
  },
  {
   "cell_type": "markdown",
   "metadata": {},
   "source": [
    "As you know by now that Regular Methods in the class automatically takes instance as an first argument. We call it as **self**. Now how we can change this so that it can take **Class** itself as a first arguments.\n",
    "\n"
   ]
  },
  {
   "cell_type": "markdown",
   "metadata": {},
   "source": [
    "To create a class method, just add **'@classmethod'** a line before creating the class method. The class is automatically the first argument to be passed in, and is represented as 'cls' instead of 'class'. This is because 'class' is a python keyword reserved to create a class. So when do we use class methods ? class methods can be used as an alternative constructors."
   ]
  },
  {
   "cell_type": "markdown",
   "metadata": {},
   "source": [
    "Suppose there is a requiement where we have data in form of String separated by '-' and we have to parse and split the string then pass those to create an Employee object. This can be done using class methods."
   ]
  },
  {
   "cell_type": "code",
   "execution_count": 26,
   "metadata": {},
   "outputs": [
    {
     "name": "stdout",
     "output_type": "stream",
     "text": [
      "Queen.Maeve@vought.com\n",
      "25000\n"
     ]
    }
   ],
   "source": [
    "class Heroes:\n",
    "    No_Of_Employees = 0\n",
    "    \n",
    "    def __init__(self, first, last, salary):\n",
    "        self.first = first\n",
    "        self.last = last\n",
    "        self.salary = salary\n",
    "        self.email = first + \".\" + last + \"@vought.com\"\n",
    "        \n",
    "        Heroes.No_Of_Employees += 1   \n",
    "        \n",
    "    def getEmail(self):\n",
    "        return self.email\n",
    "        \n",
    "    @classmethod\n",
    "    def parse_string(cls, emp_str):\n",
    "        first, last, power = emp_str.split(\"-\")\n",
    "        return cls(first, last, power)\n",
    "\n",
    "emp_str_3 = \"Queen-Maeve-30000\"\n",
    "emp_str_4 = \"Star-Light-25000\"\n",
    "\n",
    "emp_3 = Heroes.parse_string(emp_str_3)\n",
    "emp_4 = Heroes.parse_string(emp_str_4)\n",
    "\n",
    "print(emp_3.getEmail())\n",
    "print(emp_4.salary)\n"
   ]
  },
  {
   "cell_type": "markdown",
   "metadata": {},
   "source": [
    "__Static methods__ are different from regular methods and class methods in that it doesn't have a class or instance that is automatically passed in as a firs positional argument. They can be created by adding **'@staticmethod'** a line before defining the method. These are methods that have a logical connection to the Class, but does not need a class or instance as an argument. However you call a static method just like a class method - using class name. We use static methods when there is no requirement for an instance or class variables inside the methods. So static methods are jsut the regular fucntions but we organize them inside the class."
   ]
  },
  {
   "cell_type": "code",
   "execution_count": 27,
   "metadata": {},
   "outputs": [
    {
     "name": "stdout",
     "output_type": "stream",
     "text": [
      "LaserEyes\n",
      "LaserEyes\n",
      "LaserEyes\n",
      "LaserEyes\n",
      "LaserEyes\n"
     ]
    }
   ],
   "source": [
    "class Heroes:\n",
    "    No_Of_Employees = 0\n",
    "    \n",
    "    def __init__(self, first, last, salary):\n",
    "        self.first = first\n",
    "        self.last = last\n",
    "        self.salary = salary\n",
    "        self.email = first + \".\" + last + \"@vought.com\"\n",
    "        \n",
    "        Heroes.No_Of_Employees += 1   \n",
    "        \n",
    "    def getEmail(self):\n",
    "        return self.email\n",
    "    \n",
    "    @staticmethod\n",
    "    def getPower(power, n):\n",
    "        for _ in range(n):\n",
    "            print(power)\n",
    "            \n",
    "\n",
    "Employee.getPower(\"LaserEyes\", 5)   "
   ]
  },
  {
   "cell_type": "markdown",
   "metadata": {},
   "source": [
    "### Inheritance"
   ]
  },
  {
   "cell_type": "markdown",
   "metadata": {},
   "source": [
    "**Inheritance** allows us to create a new class that shares the same attributes and method with the original function, and add some extra functionality to the new class."
   ]
  },
  {
   "cell_type": "markdown",
   "metadata": {},
   "source": [
    "You can inherit a class simply by pputting the inherited class in the parenthesis.\n",
    "\n",
    "    class SuperHeroes(Heroes):"
   ]
  },
  {
   "cell_type": "markdown",
   "metadata": {},
   "source": [
    "When we call a method from a class, python follows the **'method resolution order'**, which is the chain of classes that it goes through to find what the method is. All classes have the built-in group of methods and attributes as their primary order."
   ]
  },
  {
   "cell_type": "code",
   "execution_count": 28,
   "metadata": {},
   "outputs": [
    {
     "name": "stdout",
     "output_type": "stream",
     "text": [
      "Help on class SuperHeroes in module __main__:\n",
      "\n",
      "class SuperHeroes(Heroes)\n",
      " |  SuperHeroes(first, last, salary)\n",
      " |  \n",
      " |  Method resolution order:\n",
      " |      SuperHeroes\n",
      " |      Heroes\n",
      " |      builtins.object\n",
      " |  \n",
      " |  Methods inherited from Heroes:\n",
      " |  \n",
      " |  __init__(self, first, last, salary)\n",
      " |      Initialize self.  See help(type(self)) for accurate signature.\n",
      " |  \n",
      " |  getEmail(self)\n",
      " |  \n",
      " |  ----------------------------------------------------------------------\n",
      " |  Static methods inherited from Heroes:\n",
      " |  \n",
      " |  getPower(power, n)\n",
      " |  \n",
      " |  ----------------------------------------------------------------------\n",
      " |  Data descriptors inherited from Heroes:\n",
      " |  \n",
      " |  __dict__\n",
      " |      dictionary for instance variables (if defined)\n",
      " |  \n",
      " |  __weakref__\n",
      " |      list of weak references to the object (if defined)\n",
      " |  \n",
      " |  ----------------------------------------------------------------------\n",
      " |  Data and other attributes inherited from Heroes:\n",
      " |  \n",
      " |  No_Of_Employees = 0\n",
      "\n",
      "None\n"
     ]
    }
   ],
   "source": [
    "class SuperHeroes(Heroes):\n",
    "    pass\n",
    "\n",
    "print(help(SuperHeroes))"
   ]
  },
  {
   "cell_type": "markdown",
   "metadata": {},
   "source": [
    "In the above exmaple, we can see that the SuperHeores class inherited all the attributes and methods from the super class - Heroes. In this example sub class is not doing anything. It's just inherited all the things from the super class. Let's define the sub class properly. Suppose you want to extend the class and want to provide an additional attribute rank to the super heroes. To make this maintainable, you don't have to instantiate older attributes from the base class. For that you can use **super()** function to call the base class __ init __ method."
   ]
  },
  {
   "cell_type": "code",
   "execution_count": 31,
   "metadata": {},
   "outputs": [
    {
     "name": "stdout",
     "output_type": "stream",
     "text": [
      "A.Train@vought.com\n",
      "1\n"
     ]
    }
   ],
   "source": [
    "class SuperHeroes(Heroes):\n",
    "    def __init__(self, first, last, salary, rank):\n",
    "        super().__init__(first, last, salary)\n",
    "        self.rank = rank\n",
    "        \n",
    "    def getRank(self):\n",
    "        return self.rank\n",
    "    \n",
    "emp_5 = SuperHeroes(\"A\",\"Train\", 10000, rank=1)\n",
    "\n",
    "print(emp_5.getEmail())\n",
    "print(emp_5.rank)"
   ]
  },
  {
   "cell_type": "markdown",
   "metadata": {},
   "source": [
    "You can call base class __ init __ method in 2 ways -\n",
    "1. With instance ==> super().__ init __(attr1, attr2,..)\n",
    "2. With class itself ==> BaseClass.__ init __(self, attr1, attr2,...)"
   ]
  },
  {
   "cell_type": "markdown",
   "metadata": {},
   "source": [
    "Below are some useful methods which come in handy while coding inheritance.\n",
    "1. .isinstance(instance, class)\n",
    "\n",
    "    This method returns a boolean value of whether an instance belongs to a class or not.\n",
    "    \n",
    "    \n",
    "2. .issubclass(subclass, class)\n",
    "\n",
    "    This method returns a boolean value of whether a class has inherited from another class."
   ]
  },
  {
   "cell_type": "markdown",
   "metadata": {},
   "source": [
    "### Special Methods in Python"
   ]
  },
  {
   "cell_type": "markdown",
   "metadata": {},
   "source": [
    "Python provies a veriety of special methods which are very useful to perform some kind of operations. Special methods are represented by ```__<method_name>__``` in python.\n",
    "\n",
    "Suppose you want to print out an instnace which you have created. It's just going to print a big object."
   ]
  },
  {
   "cell_type": "code",
   "execution_count": 36,
   "metadata": {},
   "outputs": [
    {
     "name": "stdout",
     "output_type": "stream",
     "text": [
      "<__main__.Heroes object at 0x7f9bb3e30ad0>\n"
     ]
    }
   ],
   "source": [
    "class Heroes:\n",
    "    \n",
    "    def __init__(self, first, last, salary):\n",
    "        self.first = first\n",
    "        self.last = last\n",
    "        self.salary = salary\n",
    "        self.email = first + \".\" + last + \"@vought.com\" \n",
    "        \n",
    "    def getFullName(self):\n",
    "        return self.first + \" \" + self.last\n",
    "    \n",
    "    \n",
    "hero_1 = Heroes(\"Home\",\"Lander\", 50000)\n",
    "hero_2 = Heroes(\"Black\", \"Noir\", 70000)\n",
    "\n",
    "print(hero_1)"
   ]
  },
  {
   "cell_type": "markdown",
   "metadata": {},
   "source": [
    "You see the it's printing the object with it's memory location. But it would be nice to change the behaviur so that it can print out something user friendly. That's where special methods are going to come handy. By defining special methods, we are going to change some of built in behaviour and operations. Special methods are called implicilty when we crate an object of the class. ```__init__``` is also a special method which we have been using since starting. Let's understand 2 more common and frequently used special methods.\n",
    "1. ```__repr__```\n",
    "2. ```__str__```\n",
    "\n",
    "```__repr__``` is used mostly for debugging purpose and ```__str__``` is used for display of an object to the end user. You should specify atleast ```__repr__``` at the minimum level so that whenver you create an object, this method will be called. If you are manually calling ```__str__``` method, then it checks for this method and if it's not found then it will eventually call ```__repr__```."
   ]
  },
  {
   "cell_type": "code",
   "execution_count": 38,
   "metadata": {},
   "outputs": [
    {
     "name": "stdout",
     "output_type": "stream",
     "text": [
      "Heroes(\"Home\", \"Lander\",\"50000\")\n"
     ]
    }
   ],
   "source": [
    "class Heroes:\n",
    "    \n",
    "    def __init__(self, first, last, salary):\n",
    "        self.first = first\n",
    "        self.last = last\n",
    "        self.salary = salary\n",
    "        self.email = first + \".\" + last + \"@vought.com\" \n",
    "        \n",
    "    def getFullName(self):\n",
    "        return self.first + \" \" + self.last\n",
    "    \n",
    "    def __repr__(self):\n",
    "        return 'Heroes(\"{}\", \"{}\",{})'.format(self.first, self.last, self.salary) \n",
    "    \n",
    "    \n",
    "hero_1 = Heroes(\"Home\",\"Lander\", 50000)\n",
    "\n",
    "print(hero_1)"
   ]
  },
  {
   "cell_type": "code",
   "execution_count": 42,
   "metadata": {},
   "outputs": [
    {
     "name": "stdout",
     "output_type": "stream",
     "text": [
      "Heroes(\"Home\", \"Lander\",50000)\n",
      "Home Lander - Home.Lander@vought.com\n"
     ]
    }
   ],
   "source": [
    "class Heroes:\n",
    "    \n",
    "    def __init__(self, first, last, salary):\n",
    "        self.first = first\n",
    "        self.last = last\n",
    "        self.salary = salary\n",
    "        self.email = first + \".\" + last + \"@vought.com\" \n",
    "        \n",
    "    def getFullName(self):\n",
    "        return self.first + \" \" + self.last\n",
    "    \n",
    "    def __repr__(self):\n",
    "        return 'Heroes(\"{}\", \"{}\",{})'.format(self.first, self.last, self.salary) \n",
    "    \n",
    "    def __str__(self):\n",
    "        return \"{} - {}\".format(self.getFullName(), self.email)\n",
    "    \n",
    "    \n",
    "hero_1 = Heroes(\"Home\",\"Lander\", 50000)\n",
    "\n",
    "print(hero_1.__repr__())\n",
    "print(hero_1.__str__())\n"
   ]
  },
  {
   "cell_type": "code",
   "execution_count": 45,
   "metadata": {},
   "outputs": [
    {
     "name": "stdout",
     "output_type": "stream",
     "text": [
      "Home Lander - Home.Lander@vought.com\n"
     ]
    }
   ],
   "source": [
    "class Heroes:\n",
    "    \n",
    "    def __init__(self, first, last, salary):\n",
    "        self.first = first\n",
    "        self.last = last\n",
    "        self.salary = salary\n",
    "        self.email = first + \".\" + last + \"@vought.com\" \n",
    "        \n",
    "    def getFullName(self):\n",
    "        return self.first + \" \" + self.last\n",
    "    \n",
    "    def __str__(self):\n",
    "        return \"{} - {}\".format(self.getFullName(), self.email)\n",
    "    \n",
    "hero_1 = Heroes(\"Home\",\"Lander\", 50000)\n",
    "\n",
    "print(hero_1)"
   ]
  },
  {
   "cell_type": "markdown",
   "metadata": {},
   "source": [
    "### Operator Overloading in Python"
   ]
  },
  {
   "cell_type": "markdown",
   "metadata": {},
   "source": [
    "Operator overloading allows same operator to have different meaning according to the context.\n",
    "For Example => '+' performs differently in case of numbers, list and string.\n",
    "In case of (2 + 3), it returns 5 and in case of ('a' + 'b'), it returns 'ab'.\n",
    "\n",
    "Operaor overloading can be implemented by overloading the magic method.\n",
    "\n",
    "Below are few examples. You can call magic methods/Special Methods in Python and perform custom handling."
   ]
  },
  {
   "cell_type": "markdown",
   "metadata": {},
   "source": [
    "``` \n",
    "+ __add__(self, other)\n",
    "- __sub__(self, other)\n",
    "* __mul__(self, other)\n",
    "/ __truediv__(self, other)\n",
    "// __floordiv__(self, other)\n",
    "% __mod__(self, other)\n",
    "** __pow__(self, other)\n",
    "\n",
    "__lt__(self, other)\n",
    "__gt__(self, other)\n",
    "```"
   ]
  },
  {
   "cell_type": "markdown",
   "metadata": {},
   "source": [
    "So here is an example => Let's say you want to add the salaries of 2 Heroes just by calling + operator. Let's start coding for it."
   ]
  },
  {
   "cell_type": "code",
   "execution_count": null,
   "metadata": {},
   "outputs": [],
   "source": [
    "class Heroes:\n",
    "    \n",
    "    def __init__(self, first, last, salary):\n",
    "        self.first = first\n",
    "        self.last = last\n",
    "        self.salary = salary\n",
    "        self.email = first + \".\" + last + \"@vought.com\" \n",
    "        \n",
    "    def getFullName(self):\n",
    "        return self.first + \" \" + self.last\n",
    "    \n",
    "    def __add__(self, other):\n",
    "        return self.salary + other.salary\n",
    "    \n",
    "    \n",
    "hero_1 = Heroes(\"Home\",\"Lander\", 50000)\n",
    "hero_2 = Heroes(\"Black\", \"Noir\", 70000)\n",
    "    \n",
    "print(\"Total salary for {} and {} is: {}\".format(hero_1.getFullName(), hero_2.getFullName(), hero_1 + hero_2))"
   ]
  },
  {
   "cell_type": "markdown",
   "metadata": {},
   "source": [
    "So in this way you can perform operator overloading and custom task."
   ]
  },
  {
   "cell_type": "markdown",
   "metadata": {},
   "source": [
    "### Property Decorators - Getters, Setters and Deleters"
   ]
  },
  {
   "cell_type": "markdown",
   "metadata": {},
   "source": [
    "In theory, a **Getter** is a method that gets the value of a property. In object oriented programming, this helps to access private attributes from a class.\n",
    "\n",
    "Similarly, a **setter** is a method that sets the value of a property. With setters you can set the value of private attributes in a class.\n",
    "\n",
    "And last but not the least, **Deleters** are used to delete the value of a property. After setting this, the value of the property will be None.\n",
    "\n",
    "Basically, using getters and setters ensures data encapsulation which is very essential in object oriented programming as you don't want to expose internal implementation of the class and property."
   ]
  },
  {
   "cell_type": "markdown",
   "metadata": {},
   "source": [
    "#### Getters and Setters using normal methods"
   ]
  },
  {
   "cell_type": "code",
   "execution_count": 58,
   "metadata": {},
   "outputs": [
    {
     "name": "stdout",
     "output_type": "stream",
     "text": [
      "Before change:\n",
      "50000\n",
      "After change:\n",
      "30000\n"
     ]
    }
   ],
   "source": [
    "class Heroes:\n",
    "    \n",
    "    def __init__(self, first, last, salary):\n",
    "        self.first = first\n",
    "        self.last = last\n",
    "        self.__salary = salary      # __ denotes private attribute of the class\n",
    "\n",
    "    ## Getter Method\n",
    "    def getSalary(self):\n",
    "        return self.__salary\n",
    "    \n",
    "    ## Setter Method\n",
    "    def setSalary(self, sal):\n",
    "        self.__salary = sal \n",
    "    \n",
    "    \n",
    "hero_1 = Heroes(\"Home\",\"Lander\", 50000)\n",
    "\n",
    "print(\"Before change:\")\n",
    "print(hero_1.getSalary())\n",
    "\n",
    "hero_1.setSalary(30000)\n",
    "print(\"After change:\")\n",
    "print(hero_1.getSalary())"
   ]
  },
  {
   "cell_type": "markdown",
   "metadata": {},
   "source": [
    "There is a better way of using getters and setters using @property decorators."
   ]
  },
  {
   "cell_type": "markdown",
   "metadata": {},
   "source": [
    "#### Getters and Setters using property decorator"
   ]
  },
  {
   "cell_type": "code",
   "execution_count": 59,
   "metadata": {},
   "outputs": [
    {
     "name": "stdout",
     "output_type": "stream",
     "text": [
      "Before change:\n",
      "50000\n",
      "After change:\n",
      "30000\n"
     ]
    }
   ],
   "source": [
    "class Heroes:\n",
    "    \n",
    "    def __init__(self, first, last, salary):\n",
    "        self.first = first\n",
    "        self.last = last\n",
    "        self.__salary = salary      # __ denotes private attribute of the class\n",
    "\n",
    "    @property\n",
    "    def salary(self):\n",
    "        return self.__salary\n",
    "    \n",
    "    @salary.setter\n",
    "    def salary(self, sal):\n",
    "        self.__salary = sal \n",
    "    \n",
    "    \n",
    "hero_1 = Heroes(\"Home\",\"Lander\", 50000)\n",
    "\n",
    "print(\"Before change:\")\n",
    "print(hero_1.salary)\n",
    "\n",
    "hero_1.salary = 30000       # Notice the change here, salary is attribute not a method\n",
    "print(\"After change:\")\n",
    "print(hero_1.salary)"
   ]
  },
  {
   "cell_type": "markdown",
   "metadata": {},
   "source": [
    "Let's see another example. In the below example we have an attribute ```email``` which is made up of 2 another attributes ```first``` and ```last```. Suppose you change the value of ```first``` after creating the object but in this case, value of attribute ```email``` will not change and when you created the object, it called the ```__init__``` constructior and set the value of ```email```. So, this is not expected."
   ]
  },
  {
   "cell_type": "code",
   "execution_count": 73,
   "metadata": {},
   "outputs": [
    {
     "name": "stdout",
     "output_type": "stream",
     "text": [
      "Before change:\n",
      "Home.Lander@vought.com\n",
      "\n",
      "After change:\n",
      "Star\n",
      "Home.Lander@vought.com\n"
     ]
    }
   ],
   "source": [
    "class Heroes:\n",
    "    \n",
    "    def __init__(self, first, last, salary):\n",
    "        self.first = first\n",
    "        self.last = last\n",
    "        self.salary = salary\n",
    "        self.email = first + \".\" + last + \"@vought.com\"   \n",
    "    \n",
    "hero_1 = Heroes(\"Home\",\"Lander\", 50000)\n",
    "\n",
    "print(\"Before change:\")\n",
    "print(hero_1.email)\n",
    "\n",
    "hero_1.first = \"Star\"     # Let's change the first name\n",
    "\n",
    "print(\"\\nAfter changing the first name:\")\n",
    "print(hero_1.first)\n",
    "print(hero_1.email)"
   ]
  },
  {
   "cell_type": "markdown",
   "metadata": {},
   "source": [
    "There could be one way where you remove ```email``` attribute from the ```__init__``` method and create another method. But in this case you will have to call function ```email()``` instead of attribute ```email```. We got the expected result but this is not maintable."
   ]
  },
  {
   "cell_type": "code",
   "execution_count": 75,
   "metadata": {},
   "outputs": [
    {
     "name": "stdout",
     "output_type": "stream",
     "text": [
      "Before change:\n",
      "Home.Lander@vought.com\n",
      "\n",
      "After changing the first name:\n",
      "Star\n",
      "Star.Lander@vought.com\n"
     ]
    }
   ],
   "source": [
    "class Heroes:\n",
    "    \n",
    "    def __init__(self, first, last, salary):\n",
    "        self.first = first\n",
    "        self.last = last\n",
    "        self.salary = salary\n",
    "        \n",
    "    def email(self):\n",
    "        return f\"{self.first}.{self.last}@vought.com\"\n",
    "    \n",
    "    \n",
    "hero_1 = Heroes(\"Home\",\"Lander\", 50000)\n",
    "\n",
    "\n",
    "print(\"Before change:\")\n",
    "print(hero_1.email())     #Notice function email() instead of email\n",
    "\n",
    "hero_1.first = \"Star\"     # Let's change the first name\n",
    "\n",
    "print(\"\\nAfter changing the first name:\")\n",
    "print(hero_1.first)\n",
    "print(hero_1.email())"
   ]
  },
  {
   "cell_type": "markdown",
   "metadata": {},
   "source": [
    "Let's solve this using property decorator. Where you don't have to call as a function ```email()```."
   ]
  },
  {
   "cell_type": "code",
   "execution_count": 77,
   "metadata": {},
   "outputs": [
    {
     "name": "stdout",
     "output_type": "stream",
     "text": [
      "Before change:\n",
      "Home.Lander@vought.com\n",
      "\n",
      "After changing the first name using property decorator:\n",
      "Star\n",
      "Star.Lander@vought.com\n"
     ]
    }
   ],
   "source": [
    "class Heroes:\n",
    "    \n",
    "    def __init__(self, first, last, salary):\n",
    "        self.first = first\n",
    "        self.last = last\n",
    "        self.salary = salary\n",
    "    \n",
    "    @property\n",
    "    def email(self):\n",
    "        return f\"{self.first}.{self.last}@vought.com\"\n",
    "    \n",
    "    \n",
    "hero_1 = Heroes(\"Home\",\"Lander\", 50000)\n",
    "\n",
    "print(\"Before change:\")\n",
    "print(hero_1.email)     \n",
    "\n",
    "hero_1.first = \"Star\"     # Let's change the first name\n",
    "\n",
    "print(\"\\nAfter changing the first name using property decorator:\")\n",
    "print(hero_1.first)\n",
    "print(hero_1.email)"
   ]
  },
  {
   "cell_type": "markdown",
   "metadata": {},
   "source": [
    "Now suppose you want to change the value of email at run time and want to change the values of those attributes which form the email attribute. If you set without the setter method, it will throw an error."
   ]
  },
  {
   "cell_type": "code",
   "execution_count": 79,
   "metadata": {},
   "outputs": [
    {
     "name": "stdout",
     "output_type": "stream",
     "text": [
      "Before change:\n",
      "Home.Lander@vought.com\n"
     ]
    },
    {
     "ename": "AttributeError",
     "evalue": "can't set attribute",
     "output_type": "error",
     "traceback": [
      "\u001b[0;31m---------------------------------------------------------------------------\u001b[0m",
      "\u001b[0;31mAttributeError\u001b[0m                            Traceback (most recent call last)",
      "\u001b[0;32m<ipython-input-79-7ae36de4e504>\u001b[0m in \u001b[0;36m<module>\u001b[0;34m\u001b[0m\n\u001b[1;32m     17\u001b[0m \u001b[0mprint\u001b[0m\u001b[0;34m(\u001b[0m\u001b[0mhero_1\u001b[0m\u001b[0;34m.\u001b[0m\u001b[0memail\u001b[0m\u001b[0;34m)\u001b[0m\u001b[0;34m\u001b[0m\u001b[0;34m\u001b[0m\u001b[0m\n\u001b[1;32m     18\u001b[0m \u001b[0;34m\u001b[0m\u001b[0m\n\u001b[0;32m---> 19\u001b[0;31m \u001b[0mhero_1\u001b[0m\u001b[0;34m.\u001b[0m\u001b[0memail\u001b[0m \u001b[0;34m=\u001b[0m \u001b[0;34m\"Star.Light@vought.com\"\u001b[0m     \u001b[0;31m# Let's change the email here\u001b[0m\u001b[0;34m\u001b[0m\u001b[0;34m\u001b[0m\u001b[0m\n\u001b[0m\u001b[1;32m     20\u001b[0m \u001b[0;34m\u001b[0m\u001b[0m\n\u001b[1;32m     21\u001b[0m \u001b[0mprint\u001b[0m\u001b[0;34m(\u001b[0m\u001b[0;34m\"\\nAfter changing the email:\"\u001b[0m\u001b[0;34m)\u001b[0m\u001b[0;34m\u001b[0m\u001b[0;34m\u001b[0m\u001b[0m\n",
      "\u001b[0;31mAttributeError\u001b[0m: can't set attribute"
     ]
    }
   ],
   "source": [
    "class Heroes:\n",
    "    \n",
    "    def __init__(self, first, last, salary):\n",
    "        self.first = first\n",
    "        self.last = last\n",
    "        self.salary = salary\n",
    "    \n",
    "    @property\n",
    "    def email(self):\n",
    "        return f\"{self.first}.{self.last}@vought.com\"\n",
    "    \n",
    "    \n",
    "    \n",
    "hero_1 = Heroes(\"Home\",\"Lander\", 50000)\n",
    "\n",
    "print(\"Before change:\")\n",
    "print(hero_1.email)     \n",
    "\n",
    "hero_1.email = \"Star.Light@vought.com\"     # Let's change the email here\n",
    "\n",
    "print(\"\\nAfter changing the email:\")\n",
    "print(hero_1.first)\n",
    "print(hero_1.email)"
   ]
  },
  {
   "cell_type": "markdown",
   "metadata": {},
   "source": [
    "Hence we will use a setter decorator to slove this problem."
   ]
  },
  {
   "cell_type": "code",
   "execution_count": 81,
   "metadata": {},
   "outputs": [
    {
     "name": "stdout",
     "output_type": "stream",
     "text": [
      "Before change:\n",
      "Home.Lander@vought.com\n",
      "\n",
      "After changing the email:\n",
      "Star\n",
      "Star.Light@vought.com\n"
     ]
    }
   ],
   "source": [
    "class Heroes:\n",
    "    \n",
    "    def __init__(self, first, last, salary):\n",
    "        self.first = first\n",
    "        self.last = last\n",
    "        self.salary = salary\n",
    "    \n",
    "    @property\n",
    "    def email(self):\n",
    "        return f\"{self.first}.{self.last}@vought.com\"\n",
    "    \n",
    "    @email.setter\n",
    "    def email(self, email):\n",
    "        names = email.split(\"@\")[0]\n",
    "        self.first, self.last = names.split(\".\")    \n",
    "    \n",
    "    \n",
    "hero_1 = Heroes(\"Home\",\"Lander\", 50000)\n",
    "\n",
    "print(\"Before change:\")\n",
    "print(hero_1.email)     \n",
    "\n",
    "hero_1.email = \"Star.Light@vought.com\"     # Let's change the email here\n",
    "\n",
    "print(\"\\nAfter changing the email:\")\n",
    "print(hero_1.first)\n",
    "print(hero_1.email)"
   ]
  },
  {
   "cell_type": "markdown",
   "metadata": {},
   "source": [
    "#### Deleters\n",
    "\n",
    "You can also delete attributes using deleter decorator."
   ]
  },
  {
   "cell_type": "code",
   "execution_count": 82,
   "metadata": {},
   "outputs": [
    {
     "name": "stdout",
     "output_type": "stream",
     "text": [
      "Before change:\n",
      "Home.Lander@vought.com\n",
      "\n",
      "After deleting:\n",
      "None\n",
      "None.None@vought.com\n"
     ]
    }
   ],
   "source": [
    "class Heroes:\n",
    "    \n",
    "    def __init__(self, first, last, salary):\n",
    "        self.first = first\n",
    "        self.last = last\n",
    "        self.salary = salary\n",
    "    \n",
    "    @property\n",
    "    def email(self):\n",
    "        return f\"{self.first}.{self.last}@vought.com\"\n",
    "    \n",
    "    @email.setter\n",
    "    def email(self, email):\n",
    "        names = email.split(\"@\")[0]\n",
    "        self.first, self.last = names.split(\".\")  \n",
    "        \n",
    "    @email.deleter\n",
    "    def email(self):\n",
    "        self.first = None\n",
    "        self.last = None        \n",
    "    \n",
    "    \n",
    "hero_1 = Heroes(\"Home\",\"Lander\", 50000)\n",
    "print(\"Before change:\")\n",
    "print(hero_1.email)     \n",
    "\n",
    "del hero_1.email\n",
    "print(\"\\nAfter deleting:\")\n",
    "print(hero_1.first)\n",
    "print(hero_1.email)   "
   ]
  },
  {
   "cell_type": "markdown",
   "metadata": {},
   "source": [
    "Now, you don't want to get email like None.None@vought.com. So let's imporve our code - getter method."
   ]
  },
  {
   "cell_type": "code",
   "execution_count": 86,
   "metadata": {},
   "outputs": [
    {
     "name": "stdout",
     "output_type": "stream",
     "text": [
      "Before change:\n",
      "Home.Lander@vought.com\n",
      "\n",
      "After deleting:\n",
      "None\n",
      "Email is not set. Please set it using setters.\n"
     ]
    }
   ],
   "source": [
    "class Heroes:\n",
    "    \n",
    "    def __init__(self, first, last, salary):\n",
    "        self.first = first\n",
    "        self.last = last\n",
    "        self.salary = salary\n",
    "    \n",
    "    @property\n",
    "    def email(self):\n",
    "        if self.first == None or self.last == None :\n",
    "            return \"Email is not set. Please set it using setters.\"\n",
    "        return f\"{self.first}.{self.last}@vought.com\"\n",
    "    \n",
    "    @email.setter\n",
    "    def email(self, email):\n",
    "        names = email.split(\"@\")[0]\n",
    "        self.first, self.last = names.split(\".\")  \n",
    "        \n",
    "    @email.deleter\n",
    "    def email(self):\n",
    "        self.first = None\n",
    "        self.last = None        \n",
    "    \n",
    "    \n",
    "hero_1 = Heroes(\"Home\",\"Lander\", 50000)\n",
    "print(\"Before change:\")\n",
    "print(hero_1.email)     \n",
    "\n",
    "del hero_1.email\n",
    "print(\"\\nAfter deleting:\")\n",
    "print(hero_1.first)\n",
    "print(hero_1.email)   "
   ]
  },
  {
   "cell_type": "markdown",
   "metadata": {},
   "source": [
    "### Conclusion\n",
    "\n",
    "We have come to the end of this chapter. I know we have learnt a lot in this chapter and we might have to review it again in order to properly understand the concept. Please reach out to me if something is not clear or looks incorrect. I'll come up with the next chapter-3 soon. \n",
    "\n",
    "Thanks a lot for reading. "
   ]
  },
  {
   "cell_type": "code",
   "execution_count": null,
   "metadata": {},
   "outputs": [],
   "source": []
  }
 ],
 "metadata": {
  "kernelspec": {
   "display_name": "Python 3",
   "language": "python",
   "name": "python3"
  },
  "language_info": {
   "codemirror_mode": {
    "name": "ipython",
    "version": 3
   },
   "file_extension": ".py",
   "mimetype": "text/x-python",
   "name": "python",
   "nbconvert_exporter": "python",
   "pygments_lexer": "ipython3",
   "version": "3.7.9"
  }
 },
 "nbformat": 4,
 "nbformat_minor": 4
}
